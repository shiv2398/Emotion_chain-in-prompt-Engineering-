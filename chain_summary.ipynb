{
 "cells": [
  {
   "cell_type": "code",
   "execution_count": 2,
   "id": "661e3389",
   "metadata": {},
   "outputs": [],
   "source": [
    "import os\n",
    "from openai import OpenAI\n",
    "os.environ[\"OPENAI_API_KEY\"]=key\n",
    "client = OpenAI()"
   ]
  },
  {
   "cell_type": "code",
   "execution_count": 3,
   "id": "ff78d542",
   "metadata": {
    "scrolled": false
   },
   "outputs": [
    {
     "data": {
      "text/markdown": [
       "# Chain of Emotion: A student preparing for a crucial exam"
      ],
      "text/plain": [
       "<IPython.core.display.Markdown object>"
      ]
     },
     "metadata": {},
     "output_type": "display_data"
    },
    {
     "data": {
      "text/markdown": [
       "Starting emotion: **neutral**"
      ],
      "text/plain": [
       "<IPython.core.display.Markdown object>"
      ]
     },
     "metadata": {},
     "output_type": "display_data"
    },
    {
     "data": {
      "text/markdown": [
       "## Step 1: neutral → excited"
      ],
      "text/plain": [
       "<IPython.core.display.Markdown object>"
      ]
     },
     "metadata": {},
     "output_type": "display_data"
    },
    {
     "data": {
      "text/markdown": [
       "**Prompt:** Transition from neutral to excited regarding A student preparing for a crucial exam."
      ],
      "text/plain": [
       "<IPython.core.display.Markdown object>"
      ]
     },
     "metadata": {},
     "output_type": "display_data"
    },
    {
     "data": {
      "text/markdown": [
       "**Response:** At first, the student seemed calm and focused as they diligently prepared for their crucial exam. However, as the day of the test approached, their excitement began to bubble up. They could sense the adrenaline rushing through their veins, feeling both nervous and eager to show off all the hard work they had put in. The anticipation of finally putting their knowledge to the test filled them with a sense of determination and exhilaration. They were ready to tackle any challenge that came their way and were eager to prove themselves on exam day. The neutral state of mind they once held had transformed into a passionate and enthusiastic readiness to ace their crucial exam."
      ],
      "text/plain": [
       "<IPython.core.display.Markdown object>"
      ]
     },
     "metadata": {},
     "output_type": "display_data"
    },
    {
     "data": {
      "text/markdown": [
       "## Step 2: excited → enthusiastic"
      ],
      "text/plain": [
       "<IPython.core.display.Markdown object>"
      ]
     },
     "metadata": {},
     "output_type": "display_data"
    },
    {
     "data": {
      "text/markdown": [
       "**Prompt:** Transition from excited to enthusiastic regarding At first, the student seemed calm and focused as they diligently prepared for their crucial exam. However, as the day of the test approached, their excitement began to bubble up. They could sense the adrenaline rushing through their veins, feeling both nervous and eager to show off all the hard work they had put in. The anticipation of finally putting their knowledge to the test filled them with a sense of determination and exhilaration. They were ready to tackle any challenge that came their way and were eager to prove themselves on exam day. The neutral state of mind they once held had transformed into a passionate and enthusiastic readiness to ace their crucial exam.."
      ],
      "text/plain": [
       "<IPython.core.display.Markdown object>"
      ]
     },
     "metadata": {},
     "output_type": "display_data"
    },
    {
     "data": {
      "text/markdown": [
       "**Response:** . As they walked into the exam room, their eyes brightened with enthusiasm and a confident smile played on their lips. They were ready to tackle each question with vigor and precision, fueled by the intense desire to succeed. Every answer they wrote down was filled with passion and determination, showcasing their thorough understanding of the material. The once calm and focused student had now transformed into a powerhouse of enthusiasm, radiating with energy and confidence. With each passing moment, their excitement only grew, propelling them towards a successful performance on their crucial exam."
      ],
      "text/plain": [
       "<IPython.core.display.Markdown object>"
      ]
     },
     "metadata": {},
     "output_type": "display_data"
    },
    {
     "data": {
      "text/markdown": [
       "## Step 3: enthusiastic → energetic"
      ],
      "text/plain": [
       "<IPython.core.display.Markdown object>"
      ]
     },
     "metadata": {},
     "output_type": "display_data"
    },
    {
     "data": {
      "text/markdown": [
       "**Prompt:** Transition from enthusiastic to energetic regarding . As they walked into the exam room, their eyes brightened with enthusiasm and a confident smile played on their lips. They were ready to tackle each question with vigor and precision, fueled by the intense desire to succeed. Every answer they wrote down was filled with passion and determination, showcasing their thorough understanding of the material. The once calm and focused student had now transformed into a powerhouse of enthusiasm, radiating with energy and confidence. With each passing moment, their excitement only grew, propelling them towards a successful performance on their crucial exam.."
      ],
      "text/plain": [
       "<IPython.core.display.Markdown object>"
      ]
     },
     "metadata": {},
     "output_type": "display_data"
    },
    {
     "data": {
      "text/markdown": [
       "**Response:** Their movements became more animated, their words more dynamic as they delved into each question with an infectious energy. The air buzzed with their fervor, igniting a spark in those around them. Their focus was unwavering, their drive relentless as they raced against the clock. Their answers leapt off the page with a pulsating vitality, leaving no doubt of their mastery of the subject matter. This was not just a test to them, but a challenge to be conquered with all the zeal and exuberance they could muster. And as they emerged from the exam room, a triumphant grin on their face, it was clear that their enthusiastic approach had paid off in spades."
      ],
      "text/plain": [
       "<IPython.core.display.Markdown object>"
      ]
     },
     "metadata": {},
     "output_type": "display_data"
    },
    {
     "data": {
      "text/markdown": [
       "**Note:** Emotion 'energetic' not found in map. Resetting to 'neutral'."
      ],
      "text/plain": [
       "<IPython.core.display.Markdown object>"
      ]
     },
     "metadata": {},
     "output_type": "display_data"
    },
    {
     "data": {
      "text/markdown": [
       "## Step 4: neutral → excited"
      ],
      "text/plain": [
       "<IPython.core.display.Markdown object>"
      ]
     },
     "metadata": {},
     "output_type": "display_data"
    },
    {
     "data": {
      "text/markdown": [
       "**Prompt:** Transition from neutral to excited regarding Their movements became more animated, their words more dynamic as they delved into each question with an infectious energy. The air buzzed with their fervor, igniting a spark in those around them. Their focus was unwavering, their drive relentless as they raced against the clock. Their answers leapt off the page with a pulsating vitality, leaving no doubt of their mastery of the subject matter. This was not just a test to them, but a challenge to be conquered with all the zeal and exuberance they could muster. And as they emerged from the exam room, a triumphant grin on their face, it was clear that their enthusiastic approach had paid off in spades.."
      ],
      "text/plain": [
       "<IPython.core.display.Markdown object>"
      ]
     },
     "metadata": {},
     "output_type": "display_data"
    },
    {
     "data": {
      "text/markdown": [
       "**Response:** Their movements became more animated, their words more dynamic as they delved into each question with an infectious energy. The air buzzed with their fervor, igniting a spark in those around them. Their focus was unwavering, their drive relentless as they raced against the clock. Their answers leapt off the page with a pulsating vitality, leaving no doubt of their mastery of the subject matter. This was not just a test to them, but a challenge to be conquered with all the zeal and exuberance they could muster. And as they emerged from the exam room, a triumphant grin on their face, it was clear that their enthusiastic approach had paid off in spades. Their excitement was palpable, their confidence soaring as they basked in the glow of their accomplishments. It was a moment of pure elation, a testament to the power of passion and determination. They had faced the challenge head-on and emerged victorious, proving once again that with the right attitude, anything is possible."
      ],
      "text/plain": [
       "<IPython.core.display.Markdown object>"
      ]
     },
     "metadata": {},
     "output_type": "display_data"
    },
    {
     "data": {
      "text/markdown": [
       "## Step 5: excited → enthusiastic"
      ],
      "text/plain": [
       "<IPython.core.display.Markdown object>"
      ]
     },
     "metadata": {},
     "output_type": "display_data"
    },
    {
     "data": {
      "text/markdown": [
       "**Prompt:** Transition from excited to enthusiastic regarding Their movements became more animated, their words more dynamic as they delved into each question with an infectious energy. The air buzzed with their fervor, igniting a spark in those around them. Their focus was unwavering, their drive relentless as they raced against the clock. Their answers leapt off the page with a pulsating vitality, leaving no doubt of their mastery of the subject matter. This was not just a test to them, but a challenge to be conquered with all the zeal and exuberance they could muster. And as they emerged from the exam room, a triumphant grin on their face, it was clear that their enthusiastic approach had paid off in spades. Their excitement was palpable, their confidence soaring as they basked in the glow of their accomplishments. It was a moment of pure elation, a testament to the power of passion and determination. They had faced the challenge head-on and emerged victorious, proving once again that with the right attitude, anything is possible.."
      ],
      "text/plain": [
       "<IPython.core.display.Markdown object>"
      ]
     },
     "metadata": {},
     "output_type": "display_data"
    },
    {
     "data": {
      "text/markdown": [
       "**Response:** Their movements became even more animated, their words bursting with enthusiasm as they delved into each question with an infectious energy that seemed to light up the room. The air was practically crackling with their fervor, inspiring those around them to match their zeal. With unwavering focus and relentless drive, they raced against the clock, determined to conquer the challenge before them.\n",
       "\n",
       "Their answers not only demonstrated their deep understanding of the subject matter, but also radiated a pulsating vitality that left no doubt of their mastery. This test was not just a hurdle to clear, but a thrilling opportunity to showcase their knowledge and skills. As they emerged from the exam room with a triumphant grin on their face, it was clear that their enthusiastic approach had paid off in spades.\n",
       "\n",
       "Their excitement was contagious, their confidence soaring as they reveled in the satisfaction of a job well done. It was a moment of pure elation, a shining example of the power of passion and determination to overcome any obstacle. They had faced the challenge head-on and emerged victorious, proving once again that with the right attitude, anything is possible."
      ],
      "text/plain": [
       "<IPython.core.display.Markdown object>"
      ]
     },
     "metadata": {},
     "output_type": "display_data"
    },
    {
     "data": {
      "text/markdown": [
       "# Emotion Chain Summary"
      ],
      "text/plain": [
       "<IPython.core.display.Markdown object>"
      ]
     },
     "metadata": {},
     "output_type": "display_data"
    },
    {
     "data": {
      "text/markdown": [
       "## Step 1: neutral → excited"
      ],
      "text/plain": [
       "<IPython.core.display.Markdown object>"
      ]
     },
     "metadata": {},
     "output_type": "display_data"
    },
    {
     "data": {
      "text/markdown": [
       "**Prompt:** Transition from neutral to excited regarding A student preparing for a crucial exam."
      ],
      "text/plain": [
       "<IPython.core.display.Markdown object>"
      ]
     },
     "metadata": {},
     "output_type": "display_data"
    },
    {
     "data": {
      "text/markdown": [
       "**Response:** At first, the student seemed calm and focused as they diligently prepared for their crucial exam. However, as the day of the test approached, their excitement began to bubble up. They could sense the adrenaline rushing through their veins, feeling both nervous and eager to show off all the hard work they had put in. The anticipation of finally putting their knowledge to the test filled them with a sense of determination and exhilaration. They were ready to tackle any challenge that came their way and were eager to prove themselves on exam day. The neutral state of mind they once held had transformed into a passionate and enthusiastic readiness to ace their crucial exam."
      ],
      "text/plain": [
       "<IPython.core.display.Markdown object>"
      ]
     },
     "metadata": {},
     "output_type": "display_data"
    },
    {
     "data": {
      "text/markdown": [
       "## Step 2: excited → enthusiastic"
      ],
      "text/plain": [
       "<IPython.core.display.Markdown object>"
      ]
     },
     "metadata": {},
     "output_type": "display_data"
    },
    {
     "data": {
      "text/markdown": [
       "**Prompt:** Transition from excited to enthusiastic regarding At first, the student seemed calm and focused as they diligently prepared for their crucial exam. However, as the day of the test approached, their excitement began to bubble up. They could sense the adrenaline rushing through their veins, feeling both nervous and eager to show off all the hard work they had put in. The anticipation of finally putting their knowledge to the test filled them with a sense of determination and exhilaration. They were ready to tackle any challenge that came their way and were eager to prove themselves on exam day. The neutral state of mind they once held had transformed into a passionate and enthusiastic readiness to ace their crucial exam.."
      ],
      "text/plain": [
       "<IPython.core.display.Markdown object>"
      ]
     },
     "metadata": {},
     "output_type": "display_data"
    },
    {
     "data": {
      "text/markdown": [
       "**Response:** . As they walked into the exam room, their eyes brightened with enthusiasm and a confident smile played on their lips. They were ready to tackle each question with vigor and precision, fueled by the intense desire to succeed. Every answer they wrote down was filled with passion and determination, showcasing their thorough understanding of the material. The once calm and focused student had now transformed into a powerhouse of enthusiasm, radiating with energy and confidence. With each passing moment, their excitement only grew, propelling them towards a successful performance on their crucial exam."
      ],
      "text/plain": [
       "<IPython.core.display.Markdown object>"
      ]
     },
     "metadata": {},
     "output_type": "display_data"
    },
    {
     "data": {
      "text/markdown": [
       "## Step 3: enthusiastic → energetic"
      ],
      "text/plain": [
       "<IPython.core.display.Markdown object>"
      ]
     },
     "metadata": {},
     "output_type": "display_data"
    },
    {
     "data": {
      "text/markdown": [
       "**Prompt:** Transition from enthusiastic to energetic regarding . As they walked into the exam room, their eyes brightened with enthusiasm and a confident smile played on their lips. They were ready to tackle each question with vigor and precision, fueled by the intense desire to succeed. Every answer they wrote down was filled with passion and determination, showcasing their thorough understanding of the material. The once calm and focused student had now transformed into a powerhouse of enthusiasm, radiating with energy and confidence. With each passing moment, their excitement only grew, propelling them towards a successful performance on their crucial exam.."
      ],
      "text/plain": [
       "<IPython.core.display.Markdown object>"
      ]
     },
     "metadata": {},
     "output_type": "display_data"
    },
    {
     "data": {
      "text/markdown": [
       "**Response:** Their movements became more animated, their words more dynamic as they delved into each question with an infectious energy. The air buzzed with their fervor, igniting a spark in those around them. Their focus was unwavering, their drive relentless as they raced against the clock. Their answers leapt off the page with a pulsating vitality, leaving no doubt of their mastery of the subject matter. This was not just a test to them, but a challenge to be conquered with all the zeal and exuberance they could muster. And as they emerged from the exam room, a triumphant grin on their face, it was clear that their enthusiastic approach had paid off in spades."
      ],
      "text/plain": [
       "<IPython.core.display.Markdown object>"
      ]
     },
     "metadata": {},
     "output_type": "display_data"
    },
    {
     "data": {
      "text/markdown": [
       "## Step 4: neutral → excited"
      ],
      "text/plain": [
       "<IPython.core.display.Markdown object>"
      ]
     },
     "metadata": {},
     "output_type": "display_data"
    },
    {
     "data": {
      "text/markdown": [
       "**Prompt:** Transition from neutral to excited regarding Their movements became more animated, their words more dynamic as they delved into each question with an infectious energy. The air buzzed with their fervor, igniting a spark in those around them. Their focus was unwavering, their drive relentless as they raced against the clock. Their answers leapt off the page with a pulsating vitality, leaving no doubt of their mastery of the subject matter. This was not just a test to them, but a challenge to be conquered with all the zeal and exuberance they could muster. And as they emerged from the exam room, a triumphant grin on their face, it was clear that their enthusiastic approach had paid off in spades.."
      ],
      "text/plain": [
       "<IPython.core.display.Markdown object>"
      ]
     },
     "metadata": {},
     "output_type": "display_data"
    },
    {
     "data": {
      "text/markdown": [
       "**Response:** Their movements became more animated, their words more dynamic as they delved into each question with an infectious energy. The air buzzed with their fervor, igniting a spark in those around them. Their focus was unwavering, their drive relentless as they raced against the clock. Their answers leapt off the page with a pulsating vitality, leaving no doubt of their mastery of the subject matter. This was not just a test to them, but a challenge to be conquered with all the zeal and exuberance they could muster. And as they emerged from the exam room, a triumphant grin on their face, it was clear that their enthusiastic approach had paid off in spades. Their excitement was palpable, their confidence soaring as they basked in the glow of their accomplishments. It was a moment of pure elation, a testament to the power of passion and determination. They had faced the challenge head-on and emerged victorious, proving once again that with the right attitude, anything is possible."
      ],
      "text/plain": [
       "<IPython.core.display.Markdown object>"
      ]
     },
     "metadata": {},
     "output_type": "display_data"
    },
    {
     "data": {
      "text/markdown": [
       "## Step 5: excited → enthusiastic"
      ],
      "text/plain": [
       "<IPython.core.display.Markdown object>"
      ]
     },
     "metadata": {},
     "output_type": "display_data"
    },
    {
     "data": {
      "text/markdown": [
       "**Prompt:** Transition from excited to enthusiastic regarding Their movements became more animated, their words more dynamic as they delved into each question with an infectious energy. The air buzzed with their fervor, igniting a spark in those around them. Their focus was unwavering, their drive relentless as they raced against the clock. Their answers leapt off the page with a pulsating vitality, leaving no doubt of their mastery of the subject matter. This was not just a test to them, but a challenge to be conquered with all the zeal and exuberance they could muster. And as they emerged from the exam room, a triumphant grin on their face, it was clear that their enthusiastic approach had paid off in spades. Their excitement was palpable, their confidence soaring as they basked in the glow of their accomplishments. It was a moment of pure elation, a testament to the power of passion and determination. They had faced the challenge head-on and emerged victorious, proving once again that with the right attitude, anything is possible.."
      ],
      "text/plain": [
       "<IPython.core.display.Markdown object>"
      ]
     },
     "metadata": {},
     "output_type": "display_data"
    },
    {
     "data": {
      "text/markdown": [
       "**Response:** Their movements became even more animated, their words bursting with enthusiasm as they delved into each question with an infectious energy that seemed to light up the room. The air was practically crackling with their fervor, inspiring those around them to match their zeal. With unwavering focus and relentless drive, they raced against the clock, determined to conquer the challenge before them.\n",
       "\n",
       "Their answers not only demonstrated their deep understanding of the subject matter, but also radiated a pulsating vitality that left no doubt of their mastery. This test was not just a hurdle to clear, but a thrilling opportunity to showcase their knowledge and skills. As they emerged from the exam room with a triumphant grin on their face, it was clear that their enthusiastic approach had paid off in spades.\n",
       "\n",
       "Their excitement was contagious, their confidence soaring as they reveled in the satisfaction of a job well done. It was a moment of pure elation, a shining example of the power of passion and determination to overcome any obstacle. They had faced the challenge head-on and emerged victorious, proving once again that with the right attitude, anything is possible."
      ],
      "text/plain": [
       "<IPython.core.display.Markdown object>"
      ]
     },
     "metadata": {},
     "output_type": "display_data"
    }
   ],
   "source": [
    "from openai import OpenAI\n",
    "from IPython.display import display, Markdown\n",
    "import random\n",
    "\n",
    "client = OpenAI()  # Ensure you've set up your API key properly\n",
    "\n",
    "emotion_map = {\n",
    "    'neutral': ['curious', 'concerned', 'excited'],\n",
    "    'curious': ['intrigued', 'surprised', 'skeptical'],\n",
    "    'concerned': ['worried', 'empathetic', 'determined'],\n",
    "    'excited': ['enthusiastic', 'joyful', 'anxious'],\n",
    "    'intrigued': ['curious', 'surprised', 'skeptical'],\n",
    "    'surprised': ['excited', 'concerned', 'curious'],\n",
    "    'skeptical': ['concerned', 'curious', 'neutral'],\n",
    "    'worried': ['concerned', 'anxious', 'determined'],\n",
    "    'empathetic': ['concerned', 'supportive', 'thoughtful'],\n",
    "    'determined': ['focused', 'confident', 'anxious'],\n",
    "    'enthusiastic': ['excited', 'joyful', 'energetic'],\n",
    "    'joyful': ['excited', 'grateful', 'content'],\n",
    "    'anxious': ['worried', 'nervous', 'cautious'],\n",
    "    # Add more emotions as needed\n",
    "}\n",
    "\n",
    "def generate_emotion_prompt(current_emotion, target_emotion, context):\n",
    "    prompts = {\n",
    "        ('neutral', 'curious'): f\"Considering {context}, what aspects pique your interest?\",\n",
    "        ('curious', 'intrigued'): f\"As you explore {context} further, what unexpected details emerge?\",\n",
    "        ('intrigued', 'surprised'): f\"What surprising revelation about {context} shifts your perspective?\",\n",
    "        # Add more specific prompts here\n",
    "    }\n",
    "    return prompts.get((current_emotion, target_emotion), f\"Transition from {current_emotion} to {target_emotion} regarding {context}.\")\n",
    "\n",
    "def chain_of_emotion(initial_context, initial_emotion, steps=5):\n",
    "    current_emotion = initial_emotion\n",
    "    context = initial_context\n",
    "    response_chain = []\n",
    "\n",
    "    display(Markdown(f\"# Chain of Emotion: {initial_context}\"))\n",
    "    display(Markdown(f\"Starting emotion: **{initial_emotion}**\"))\n",
    "\n",
    "    for step in range(steps):\n",
    "        # Select next emotion, fallback to initial emotion if current is not in map\n",
    "        if current_emotion not in emotion_map:\n",
    "            display(Markdown(f\"**Note:** Emotion '{current_emotion}' not found in map. Resetting to '{initial_emotion}'.\"))\n",
    "            current_emotion = initial_emotion\n",
    "        \n",
    "        next_emotion = random.choice(emotion_map[current_emotion])\n",
    "        \n",
    "        # Generate prompt for this emotional transition\n",
    "        prompt = generate_emotion_prompt(current_emotion, next_emotion, context)\n",
    "        \n",
    "        # Get AI response\n",
    "        response = client.chat.completions.create(\n",
    "            model=\"gpt-3.5-turbo\",\n",
    "            messages=[{\"role\": \"user\", \"content\": prompt}]\n",
    "        )\n",
    "        ai_response = response.choices[0].message.content.strip()\n",
    "        \n",
    "        response_chain.append({\n",
    "            'from_emotion': current_emotion,\n",
    "            'to_emotion': next_emotion,\n",
    "            'prompt': prompt,\n",
    "            'response': ai_response\n",
    "        })\n",
    "        \n",
    "        # Display the step\n",
    "        display(Markdown(f\"## Step {step + 1}: {current_emotion} → {next_emotion}\"))\n",
    "        display(Markdown(f\"**Prompt:** {prompt}\"))\n",
    "        display(Markdown(f\"**Response:** {ai_response}\"))\n",
    "        \n",
    "        # Update for next iteration\n",
    "        current_emotion = next_emotion\n",
    "        context = ai_response\n",
    "\n",
    "    return response_chain\n",
    "\n",
    "# Example usage\n",
    "initial_context = \"A student preparing for a crucial exam\"\n",
    "initial_emotion = \"neutral\"\n",
    "emotion_chain = chain_of_emotion(initial_context, initial_emotion)\n",
    "\n",
    "# Display summary\n",
    "display(Markdown(\"# Emotion Chain Summary\"))\n",
    "for step, transition in enumerate(emotion_chain):\n",
    "    display(Markdown(f\"## Step {step + 1}: {transition['from_emotion']} → {transition['to_emotion']}\"))\n",
    "    display(Markdown(f\"**Prompt:** {transition['prompt']}\"))\n",
    "    display(Markdown(f\"**Response:** {transition['response']}\"))"
   ]
  },
  {
   "cell_type": "code",
   "execution_count": null,
   "id": "031362e3",
   "metadata": {},
   "outputs": [],
   "source": []
  }
 ],
 "metadata": {
  "kernelspec": {
   "display_name": "Python 3 (ipykernel)",
   "language": "python",
   "name": "python3"
  },
  "language_info": {
   "codemirror_mode": {
    "name": "ipython",
    "version": 3
   },
   "file_extension": ".py",
   "mimetype": "text/x-python",
   "name": "python",
   "nbconvert_exporter": "python",
   "pygments_lexer": "ipython3",
   "version": "3.9.12"
  }
 },
 "nbformat": 4,
 "nbformat_minor": 5
}
